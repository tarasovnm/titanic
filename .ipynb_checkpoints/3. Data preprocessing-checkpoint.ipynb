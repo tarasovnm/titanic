{
 "cells": [
  {
   "cell_type": "code",
   "execution_count": 1,
   "metadata": {},
   "outputs": [],
   "source": [
    "import numpy as np\n",
    "import pandas as pd\n",
    "from sklearn import pipeline, preprocessing\n",
    "from sklearn.pipeline import Pipeline, make_pipeline\n",
    "\n",
    "from df_transformers import *"
   ]
  },
  {
   "cell_type": "code",
   "execution_count": 2,
   "metadata": {
    "scrolled": true
   },
   "outputs": [
    {
     "name": "stdout",
     "output_type": "stream",
     "text": [
      "Shape of train data: (891, 9). Shape of test data: (418, 8)\n"
     ]
    }
   ],
   "source": [
    "train_data = pd.read_csv(\"data/cleaned_train_data.csv\", index_col=\"PassengerId\")\n",
    "test_data = pd.read_csv(\"data/cleaned_test_data.csv\", index_col=\"PassengerId\")\n",
    "print(f\"Shape of train data: {train_data.shape}. Shape of test data: {test_data.shape}\")\n",
    "train_size = train_data.shape[0]"
   ]
  },
  {
   "cell_type": "code",
   "execution_count": 3,
   "metadata": {},
   "outputs": [],
   "source": [
    "# Объединим датасеты для обработки\n",
    "data = pd.concat([train_data.drop(['Survived'], axis=1), test_data])\n",
    "y = train_data['Survived']"
   ]
  },
  {
   "cell_type": "markdown",
   "metadata": {},
   "source": [
    "### Разделяем признаки по типу"
   ]
  },
  {
   "cell_type": "code",
   "execution_count": 4,
   "metadata": {},
   "outputs": [],
   "source": [
    "# Бинарные\n",
    "\n",
    "# Числовые\n",
    "num_features = ['Age', 'SibSp', 'Parch', 'Fare']\n",
    "\n",
    "# Категориальные\n",
    "cat_features = train_data.columns.drop('Survived').drop(num_features).tolist()\n",
    "\n",
    "# Текстовые"
   ]
  },
  {
   "cell_type": "markdown",
   "metadata": {},
   "source": [
    "### Собираем пайплайн"
   ]
  },
  {
   "cell_type": "code",
   "execution_count": 5,
   "metadata": {},
   "outputs": [],
   "source": [
    "# Обработка числовых признаков\n",
    "num_pipeline = make_pipeline(\n",
    "    SelectColumnsTransfomer(num_features),\n",
    "    #preprocessing.StandardScaler(with_mean = 0)\n",
    ")\n",
    "\n",
    "# Обработка категориальных признаков\n",
    "cat_pipeline = make_pipeline(\n",
    "    SelectColumnsTransfomer(cat_features),\n",
    "    DataFrameFunctionTransformer(lambda x: x.apply(str)),\n",
    "    # Разобраться что за тип данных category в pd.DataFrame и что такое object_levels\n",
    "    #DataFrameFunctionTransformer(lambda x:x.astype('category', categories=object_levels)),\n",
    "    ToDummiesTransformer(),\n",
    ")\n",
    "\n",
    "# Обединяем обработанные данные\n",
    "preprocessing_features = DataFrameFeatureUnion([num_pipeline, cat_pipeline])"
   ]
  },
  {
   "cell_type": "code",
   "execution_count": 6,
   "metadata": {},
   "outputs": [],
   "source": [
    "prprd_data = preprocessing_features.fit_transform(data)"
   ]
  },
  {
   "cell_type": "code",
   "execution_count": 7,
   "metadata": {},
   "outputs": [],
   "source": [
    "preprocessed_train_data = prprd_data.iloc[:train_size, :]\n",
    "preprocessed_test_data = prprd_data.iloc[train_size:, :]"
   ]
  },
  {
   "cell_type": "code",
   "execution_count": 8,
   "metadata": {
    "scrolled": true
   },
   "outputs": [
    {
     "name": "stderr",
     "output_type": "stream",
     "text": [
      "C:\\Users\\nikita\\Anaconda3\\lib\\site-packages\\ipykernel_launcher.py:1: SettingWithCopyWarning: \n",
      "A value is trying to be set on a copy of a slice from a DataFrame.\n",
      "Try using .loc[row_indexer,col_indexer] = value instead\n",
      "\n",
      "See the caveats in the documentation: http://pandas.pydata.org/pandas-docs/stable/indexing.html#indexing-view-versus-copy\n",
      "  \"\"\"Entry point for launching an IPython kernel.\n"
     ]
    }
   ],
   "source": [
    "preprocessed_train_data['Survived'] = y"
   ]
  },
  {
   "cell_type": "markdown",
   "metadata": {},
   "source": [
    "### Обрабатываем и сохраняем данные"
   ]
  },
  {
   "cell_type": "code",
   "execution_count": 9,
   "metadata": {},
   "outputs": [],
   "source": [
    "preprocessed_train_data.to_csv('data/preprocessed_train_data.csv', header=True)\n",
    "preprocessed_test_data.to_csv('data/preprocessed_test_data.csv', header=True)"
   ]
  }
 ],
 "metadata": {
  "kernelspec": {
   "display_name": "Python 3",
   "language": "python",
   "name": "python3"
  },
  "language_info": {
   "codemirror_mode": {
    "name": "ipython",
    "version": 3
   },
   "file_extension": ".py",
   "mimetype": "text/x-python",
   "name": "python",
   "nbconvert_exporter": "python",
   "pygments_lexer": "ipython3",
   "version": "3.7.3"
  }
 },
 "nbformat": 4,
 "nbformat_minor": 2
}
