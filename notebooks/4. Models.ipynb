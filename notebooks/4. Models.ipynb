{
 "cells": [
  {
   "cell_type": "code",
   "execution_count": 23,
   "metadata": {},
   "outputs": [],
   "source": [
    "import numpy as np\n",
    "import pandas as pd\n",
    "\n",
    "from matplotlib import pyplot as plt\n",
    "import seaborn as sns\n",
    "\n",
    "from sklearn import pipeline, preprocessing, ensemble, linear_model, svm, tree\n",
    "from sklearn.pipeline import Pipeline, make_pipeline\n",
    "from sklearn.preprocessing import StandardScaler\n",
    "from sklearn.model_selection import train_test_split, StratifiedKFold, cross_val_score, KFold, ShuffleSplit, cross_validate\n",
    "from sklearn import model_selection, metrics\n",
    "\n",
    "#import models\n",
    "from sklearn.linear_model import LogisticRegression, RidgeClassifier, SGDClassifier\n",
    "from sklearn.ensemble import RandomForestClassifier, GradientBoostingClassifier, ExtraTreesClassifier, BaggingClassifier, VotingClassifier, RandomTreesEmbedding\n",
    "from sklearn.svm import SVC\n",
    "from sklearn.neighbors import KNeighborsClassifier\n",
    "from xgboost import XGBClassifier\n",
    "from sklearn.tree import DecisionTreeClassifier\n",
    "\n",
    "from df_transformers import SelectColumnsTransformer\n",
    "\n",
    "%matplotlib inline"
   ]
  },
  {
   "cell_type": "code",
   "execution_count": 24,
   "metadata": {},
   "outputs": [
    {
     "name": "stdout",
     "output_type": "stream",
     "text": [
      "Shape of train data: (891, 53). Shape of test data: (418, 52)\n"
     ]
    }
   ],
   "source": [
    "train_data = pd.read_csv(\"data/output/preprocessed_train_data.csv\", index_col=\"PassengerId\")\n",
    "test_data = pd.read_csv(\"data/output/preprocessed_test_data.csv\", index_col=\"PassengerId\")\n",
    "print(f\"Shape of train data: {train_data.shape}. Shape of test data: {test_data.shape}\")"
   ]
  },
  {
   "cell_type": "markdown",
   "metadata": {},
   "source": [
    "### Разделяем выборку на трейн и тест"
   ]
  },
  {
   "cell_type": "code",
   "execution_count": 26,
   "metadata": {},
   "outputs": [
    {
     "data": {
      "text/plain": [
       "(891, 34)"
      ]
     },
     "execution_count": 26,
     "metadata": {},
     "output_type": "execute_result"
    }
   ],
   "source": [
    "X = train_data.drop(['FareBin_(-0.001, 7.896]',\n",
    "       'FareBin_(-0.001, 7.91]', 'FareBin_(14.454, 31.0]',\n",
    "       'FareBin_(14.454, 31.5]', 'FareBin_(31.0, 512.329]',\n",
    "       'FareBin_(31.5, 512.329]', 'FareBin_(7.896, 14.454]',\n",
    "       'FareBin_(7.91, 14.454]', 'AgeBin_(-0.076, 15.2]',\n",
    "       'AgeBin_(-0.08, 16.0]', 'AgeBin_(15.2, 30.4]', 'AgeBin_(16.0, 32.0]',\n",
    "       'AgeBin_(30.4, 45.6]', 'AgeBin_(32.0, 48.0]', 'AgeBin_(45.6, 60.8]',\n",
    "       'AgeBin_(48.0, 64.0]', 'AgeBin_(60.8, 76.0]', 'AgeBin_(64.0, 80.0]',\n",
    "       'Survived'], axis=1)\n",
    "y = train_data['Survived']\n",
    "X.shape"
   ]
  },
  {
   "cell_type": "code",
   "execution_count": 27,
   "metadata": {},
   "outputs": [],
   "source": [
    "X_train, X_test, y_train, y_test = train_test_split(X, y, test_size=0.3, random_state=0)"
   ]
  },
  {
   "cell_type": "markdown",
   "metadata": {},
   "source": [
    "### Define a cross validation strategy"
   ]
  },
  {
   "cell_type": "code",
   "execution_count": 28,
   "metadata": {},
   "outputs": [],
   "source": [
    "seed = 3\n",
    "scoring = 'accuracy'\n",
    "n_folds = 7\n",
    "\n",
    "def accuracy_cv(model):\n",
    "    kfold = KFold(n_splits=n_folds, random_state=seed)\n",
    "    return cross_val_score(model, X_train, y_train, cv=kfold, scoring=scoring, n_jobs=-1)"
   ]
  },
  {
   "cell_type": "code",
   "execution_count": 29,
   "metadata": {},
   "outputs": [],
   "source": [
    "seed = 3\n",
    "scoring = 'accuracy'\n",
    "n_folds = 7\n",
    "\n",
    "def accuracy_cv_t(model):\n",
    "    kfold = KFold(n_splits=n_folds, random_state=seed)\n",
    "    result = dict()\n",
    "    result['train_score'] = cross_val_score(model, X_train, y_train, cv=kfold, scoring='accuracy', n_jobs=-1)\n",
    "    \n",
    "    model.fit(X_train, y_train)\n",
    "    predictions = model.predict(X_test)\n",
    "    result['test_score'] = metrics.accuracy_score(y_test, predictions)\n",
    "    return result"
   ]
  },
  {
   "cell_type": "code",
   "execution_count": null,
   "metadata": {},
   "outputs": [],
   "source": []
  },
  {
   "cell_type": "markdown",
   "metadata": {},
   "source": [
    "## Models"
   ]
  },
  {
   "cell_type": "code",
   "execution_count": 45,
   "metadata": {},
   "outputs": [],
   "source": [
    "# источник - https://www.kaggle.com/kabure/eda-pipelines-v2-0-easy-to-begineers\n",
    "\n",
    "clfs = []\n",
    "\n",
    "clfs.append((\"LogReg\", \n",
    "             Pipeline([(\"Scaler\", StandardScaler()),\n",
    "                       (\"LogReg\", LogisticRegression())])))\n",
    "\n",
    "clfs.append((\"XGBClassifier\",\n",
    "             Pipeline([(\"Scaler\", StandardScaler()),\n",
    "                       (\"XGB\", XGBClassifier())]))) \n",
    "\n",
    "clfs.append((\"KNN\", \n",
    "             Pipeline([(\"Scaler\", StandardScaler()),\n",
    "                       (\"KNN\", KNeighborsClassifier())]))) \n",
    "\n",
    "clfs.append((\"DecisionTreeClassifier\", \n",
    "             Pipeline([(\"Scaler\", StandardScaler()),\n",
    "                       (\"DecisionTrees\", DecisionTreeClassifier())]))) \n",
    "\n",
    "clfs.append((\"RandomForestClassifier\", \n",
    "             Pipeline([(\"Scaler\", StandardScaler()),\n",
    "                       (\"RandomForest\", RandomForestClassifier(n_estimators=100))]))) \n",
    "\n",
    "clfs.append((\"GradientBoostingClassifier\", \n",
    "             Pipeline([(\"Scaler\", StandardScaler()),\n",
    "                       (\"GradientBoosting\", GradientBoostingClassifier(n_estimators=100))]))) \n",
    "\n",
    "clfs.append((\"RidgeClassifier\", \n",
    "             Pipeline([(\"Scaler\", StandardScaler()),\n",
    "                       (\"RidgeClassifier\", RidgeClassifier())])))\n",
    "\n",
    "clfs.append((\"BaggingRidgeClassifier\",\n",
    "             Pipeline([(\"Scaler\", StandardScaler()),\n",
    "                       (\"BaggingClassifier\", BaggingClassifier())])))\n",
    "\n",
    "clfs.append((\"ExtraTreesClassifier\",\n",
    "             Pipeline([(\"Scaler\", StandardScaler()),\n",
    "                       (\"ExtraTrees\", ExtraTreesClassifier())])))"
   ]
  },
  {
   "cell_type": "code",
   "execution_count": 31,
   "metadata": {},
   "outputs": [],
   "source": [
    "models = [\n",
    "    #Ensemble Methods\n",
    "    ensemble.AdaBoostClassifier(),\n",
    "    ensemble.BaggingClassifier(),\n",
    "    ensemble.ExtraTreesClassifier(),\n",
    "    ensemble.GradientBoostingClassifier(),\n",
    "    ensemble.RandomForestClassifier(),\n",
    "\n",
    "    #Gaussian Processes\n",
    "    #gaussian_process.GaussianProcessClassifier(),\n",
    "    \n",
    "    #GLM\n",
    "    linear_model.LogisticRegressionCV(),\n",
    "    linear_model.PassiveAggressiveClassifier(),\n",
    "    linear_model.RidgeClassifierCV(),\n",
    "    linear_model.SGDClassifier(),\n",
    "    linear_model.Perceptron(),\n",
    "    \n",
    "    #Navies Bayes\n",
    "    #naive_bayes.BernoulliNB(),\n",
    "    #naive_bayes.GaussianNB(),\n",
    "    \n",
    "    #Nearest Neighbor\n",
    "    #neighbors.KNeighborsClassifier(),\n",
    "    \n",
    "    #SVM\n",
    "    svm.SVC(probability=True),\n",
    "    svm.NuSVC(probability=True),\n",
    "    svm.LinearSVC(),\n",
    "    \n",
    "    #Trees    \n",
    "    tree.DecisionTreeClassifier(),\n",
    "    tree.ExtraTreeClassifier(),\n",
    "    \n",
    "    #Discriminant Analysis\n",
    "    #discriminant_analysis.LinearDiscriminantAnalysis(),\n",
    "    #discriminant_analysis.QuadraticDiscriminantAnalysis(),\n",
    "\n",
    "    \n",
    "    #xgboost: http://xgboost.readthedocs.io/en/latest/model.html\n",
    "    XGBClassifier()    \n",
    "    ]"
   ]
  },
  {
   "cell_type": "code",
   "execution_count": 17,
   "metadata": {},
   "outputs": [
    {
     "name": "stderr",
     "output_type": "stream",
     "text": [
      "C:\\Users\\nikita\\Anaconda3\\lib\\site-packages\\sklearn\\linear_model\\logistic.py:432: FutureWarning: Default solver will be changed to 'lbfgs' in 0.22. Specify a solver to silence this warning.\n",
      "  FutureWarning)\n"
     ]
    }
   ],
   "source": [
    "# Создадим таблицу для сравнения метрик алгоритмов\n",
    "MLA_columns = ['MLA Name', 'MLA Train Accuracy Mean', 'MLA Train Accuracy 3*STD']\n",
    "MLA_compare = pd.DataFrame(columns = MLA_columns)\n",
    "\n",
    "# Создадим таблицу для сравнения предсказаний алгоритмов\n",
    "MLA_predict = train_data['Survived']\n",
    "\n",
    "row_index = 0\n",
    "for name, model  in clfs:\n",
    "    MLA_name = name\n",
    "    MLA_compare.loc[row_index, 'MLA Name'] = name\n",
    "    \n",
    "    cv_results = accuracy_cv_t(model)\n",
    "    \n",
    "    MLA_compare.loc[row_index, 'MLA Train Accuracy Mean'] = cv_results['train_score'].mean()\n",
    "    MLA_compare.loc[row_index, 'MLA Test Accuracy Mean'] = cv_results['test_score'].mean()   \n",
    "    #if this is a non-bias random sample, then +/-3 standard deviations (std) from the mean, should statistically capture 99.7% of the subsets\n",
    "    MLA_compare.loc[row_index, 'MLA Train Accuracy 3*STD'] = cv_results['train_score'].std()*3   #let's know the worst that can happen!\n",
    "    \n",
    "    #save MLA predictions - see section 6 for usage\n",
    "    #model.fit(X, y)\n",
    "    #MLA_predict[MLA_name] = model.predict(X)\n",
    "    \n",
    "    row_index+=1"
   ]
  },
  {
   "cell_type": "code",
   "execution_count": 48,
   "metadata": {},
   "outputs": [
    {
     "name": "stdout",
     "output_type": "stream",
     "text": [
      "AdaBoostClassifier\n",
      "BaggingClassifier\n",
      "ExtraTreesClassifier\n",
      "GradientBoostingClassifier\n",
      "RandomForestClassifier\n",
      "LogisticRegressionCV\n"
     ]
    },
    {
     "name": "stderr",
     "output_type": "stream",
     "text": [
      "C:\\Users\\nikita\\Anaconda3\\lib\\site-packages\\sklearn\\model_selection\\_split.py:1978: FutureWarning: The default value of cv will change from 3 to 5 in version 0.22. Specify it explicitly to silence this warning.\n",
      "  warnings.warn(CV_WARNING, FutureWarning)\n",
      "C:\\Users\\nikita\\Anaconda3\\lib\\site-packages\\sklearn\\linear_model\\logistic.py:947: ConvergenceWarning: lbfgs failed to converge. Increase the number of iterations.\n",
      "  \"of iterations.\", ConvergenceWarning)\n",
      "C:\\Users\\nikita\\Anaconda3\\lib\\site-packages\\sklearn\\linear_model\\logistic.py:947: ConvergenceWarning: lbfgs failed to converge. Increase the number of iterations.\n",
      "  \"of iterations.\", ConvergenceWarning)\n",
      "C:\\Users\\nikita\\Anaconda3\\lib\\site-packages\\sklearn\\linear_model\\logistic.py:947: ConvergenceWarning: lbfgs failed to converge. Increase the number of iterations.\n",
      "  \"of iterations.\", ConvergenceWarning)\n",
      "C:\\Users\\nikita\\Anaconda3\\lib\\site-packages\\sklearn\\linear_model\\logistic.py:947: ConvergenceWarning: lbfgs failed to converge. Increase the number of iterations.\n",
      "  \"of iterations.\", ConvergenceWarning)\n",
      "C:\\Users\\nikita\\Anaconda3\\lib\\site-packages\\sklearn\\linear_model\\logistic.py:947: ConvergenceWarning: lbfgs failed to converge. Increase the number of iterations.\n",
      "  \"of iterations.\", ConvergenceWarning)\n",
      "C:\\Users\\nikita\\Anaconda3\\lib\\site-packages\\sklearn\\linear_model\\logistic.py:947: ConvergenceWarning: lbfgs failed to converge. Increase the number of iterations.\n",
      "  \"of iterations.\", ConvergenceWarning)\n",
      "C:\\Users\\nikita\\Anaconda3\\lib\\site-packages\\sklearn\\linear_model\\logistic.py:947: ConvergenceWarning: lbfgs failed to converge. Increase the number of iterations.\n",
      "  \"of iterations.\", ConvergenceWarning)\n",
      "C:\\Users\\nikita\\Anaconda3\\lib\\site-packages\\sklearn\\linear_model\\logistic.py:947: ConvergenceWarning: lbfgs failed to converge. Increase the number of iterations.\n",
      "  \"of iterations.\", ConvergenceWarning)\n",
      "C:\\Users\\nikita\\Anaconda3\\lib\\site-packages\\sklearn\\linear_model\\logistic.py:947: ConvergenceWarning: lbfgs failed to converge. Increase the number of iterations.\n",
      "  \"of iterations.\", ConvergenceWarning)\n",
      "C:\\Users\\nikita\\Anaconda3\\lib\\site-packages\\sklearn\\linear_model\\logistic.py:947: ConvergenceWarning: lbfgs failed to converge. Increase the number of iterations.\n",
      "  \"of iterations.\", ConvergenceWarning)\n",
      "C:\\Users\\nikita\\Anaconda3\\lib\\site-packages\\sklearn\\linear_model\\logistic.py:947: ConvergenceWarning: lbfgs failed to converge. Increase the number of iterations.\n",
      "  \"of iterations.\", ConvergenceWarning)\n",
      "C:\\Users\\nikita\\Anaconda3\\lib\\site-packages\\sklearn\\linear_model\\logistic.py:947: ConvergenceWarning: lbfgs failed to converge. Increase the number of iterations.\n",
      "  \"of iterations.\", ConvergenceWarning)\n",
      "C:\\Users\\nikita\\Anaconda3\\lib\\site-packages\\sklearn\\linear_model\\logistic.py:947: ConvergenceWarning: lbfgs failed to converge. Increase the number of iterations.\n",
      "  \"of iterations.\", ConvergenceWarning)\n",
      "C:\\Users\\nikita\\Anaconda3\\lib\\site-packages\\sklearn\\linear_model\\logistic.py:947: ConvergenceWarning: lbfgs failed to converge. Increase the number of iterations.\n",
      "  \"of iterations.\", ConvergenceWarning)\n",
      "C:\\Users\\nikita\\Anaconda3\\lib\\site-packages\\sklearn\\linear_model\\logistic.py:947: ConvergenceWarning: lbfgs failed to converge. Increase the number of iterations.\n",
      "  \"of iterations.\", ConvergenceWarning)\n",
      "C:\\Users\\nikita\\Anaconda3\\lib\\site-packages\\sklearn\\linear_model\\logistic.py:947: ConvergenceWarning: lbfgs failed to converge. Increase the number of iterations.\n",
      "  \"of iterations.\", ConvergenceWarning)\n",
      "C:\\Users\\nikita\\Anaconda3\\lib\\site-packages\\sklearn\\linear_model\\logistic.py:947: ConvergenceWarning: lbfgs failed to converge. Increase the number of iterations.\n",
      "  \"of iterations.\", ConvergenceWarning)\n",
      "C:\\Users\\nikita\\Anaconda3\\lib\\site-packages\\sklearn\\linear_model\\logistic.py:947: ConvergenceWarning: lbfgs failed to converge. Increase the number of iterations.\n",
      "  \"of iterations.\", ConvergenceWarning)\n",
      "C:\\Users\\nikita\\Anaconda3\\lib\\site-packages\\sklearn\\linear_model\\logistic.py:947: ConvergenceWarning: lbfgs failed to converge. Increase the number of iterations.\n",
      "  \"of iterations.\", ConvergenceWarning)\n",
      "C:\\Users\\nikita\\Anaconda3\\lib\\site-packages\\sklearn\\linear_model\\logistic.py:947: ConvergenceWarning: lbfgs failed to converge. Increase the number of iterations.\n",
      "  \"of iterations.\", ConvergenceWarning)\n",
      "C:\\Users\\nikita\\Anaconda3\\lib\\site-packages\\sklearn\\linear_model\\logistic.py:947: ConvergenceWarning: lbfgs failed to converge. Increase the number of iterations.\n",
      "  \"of iterations.\", ConvergenceWarning)\n",
      "C:\\Users\\nikita\\Anaconda3\\lib\\site-packages\\sklearn\\linear_model\\logistic.py:947: ConvergenceWarning: lbfgs failed to converge. Increase the number of iterations.\n",
      "  \"of iterations.\", ConvergenceWarning)\n"
     ]
    },
    {
     "name": "stdout",
     "output_type": "stream",
     "text": [
      "PassiveAggressiveClassifier\n",
      "RidgeClassifierCV\n",
      "SGDClassifier\n",
      "Perceptron\n",
      "SVC\n"
     ]
    },
    {
     "name": "stderr",
     "output_type": "stream",
     "text": [
      "C:\\Users\\nikita\\Anaconda3\\lib\\site-packages\\sklearn\\svm\\base.py:193: FutureWarning: The default value of gamma will change from 'auto' to 'scale' in version 0.22 to account better for unscaled features. Set gamma explicitly to 'auto' or 'scale' to avoid this warning.\n",
      "  \"avoid this warning.\", FutureWarning)\n"
     ]
    },
    {
     "name": "stdout",
     "output_type": "stream",
     "text": [
      "NuSVC\n"
     ]
    },
    {
     "name": "stderr",
     "output_type": "stream",
     "text": [
      "C:\\Users\\nikita\\Anaconda3\\lib\\site-packages\\sklearn\\svm\\base.py:193: FutureWarning: The default value of gamma will change from 'auto' to 'scale' in version 0.22 to account better for unscaled features. Set gamma explicitly to 'auto' or 'scale' to avoid this warning.\n",
      "  \"avoid this warning.\", FutureWarning)\n"
     ]
    },
    {
     "name": "stdout",
     "output_type": "stream",
     "text": [
      "LinearSVC\n",
      "DecisionTreeClassifier\n",
      "ExtraTreeClassifier\n",
      "XGBClassifier\n"
     ]
    },
    {
     "name": "stderr",
     "output_type": "stream",
     "text": [
      "C:\\Users\\nikita\\Anaconda3\\lib\\site-packages\\sklearn\\svm\\base.py:929: ConvergenceWarning: Liblinear failed to converge, increase the number of iterations.\n",
      "  \"the number of iterations.\", ConvergenceWarning)\n"
     ]
    }
   ],
   "source": [
    "# Создадим таблицу для сравнения метрик алгоритмов\n",
    "MLA_columns = ['MLA Name', 'MLA Train Accuracy Mean', 'MLA Train Accuracy 3*STD']\n",
    "MLA_compare = pd.DataFrame(columns = MLA_columns)\n",
    "\n",
    "# Создадим таблицу для сравнения предсказаний алгоритмов\n",
    "MLA_predict = train_data['Survived']\n",
    "\n",
    "row_index = 0\n",
    "for model in models:\n",
    "    MLA_name = model.__class__.__name__\n",
    "    MLA_compare.loc[row_index, 'MLA Name'] = MLA_name\n",
    "    \n",
    "    cv_results = accuracy_cv_t(model)\n",
    "    \n",
    "    MLA_compare.loc[row_index, 'MLA Train Accuracy Mean'] = cv_results['train_score'].mean()\n",
    "    MLA_compare.loc[row_index, 'MLA Test Accuracy Mean'] = cv_results['test_score'].mean()   \n",
    "    #if this is a non-bias random sample, then +/-3 standard deviations (std) from the mean, should statistically capture 99.7% of the subsets\n",
    "    MLA_compare.loc[row_index, 'MLA Train Accuracy 3*STD'] = cv_results['train_score'].std()*3   #let's know the worst that can happen!\n",
    "    \n",
    "    #save MLA predictions - see section 6 for usage\n",
    "    #model.fit(X, y)\n",
    "    #MLA_predict[MLA_name] = model.predict(X)\n",
    "    \n",
    "    row_index+=1"
   ]
  },
  {
   "cell_type": "code",
   "execution_count": 50,
   "metadata": {
    "scrolled": false
   },
   "outputs": [
    {
     "data": {
      "text/html": [
       "<div>\n",
       "<style scoped>\n",
       "    .dataframe tbody tr th:only-of-type {\n",
       "        vertical-align: middle;\n",
       "    }\n",
       "\n",
       "    .dataframe tbody tr th {\n",
       "        vertical-align: top;\n",
       "    }\n",
       "\n",
       "    .dataframe thead th {\n",
       "        text-align: right;\n",
       "    }\n",
       "</style>\n",
       "<table border=\"1\" class=\"dataframe\">\n",
       "  <thead>\n",
       "    <tr style=\"text-align: right;\">\n",
       "      <th></th>\n",
       "      <th>MLA Name</th>\n",
       "      <th>MLA Train Accuracy Mean</th>\n",
       "      <th>MLA Train Accuracy 3*STD</th>\n",
       "      <th>MLA Test Accuracy Mean</th>\n",
       "    </tr>\n",
       "  </thead>\n",
       "  <tbody>\n",
       "    <tr>\n",
       "      <th>3</th>\n",
       "      <td>GradientBoostingClassifier</td>\n",
       "      <td>0.817014</td>\n",
       "      <td>0.0895718</td>\n",
       "      <td>0.843284</td>\n",
       "    </tr>\n",
       "    <tr>\n",
       "      <th>15</th>\n",
       "      <td>XGBClassifier</td>\n",
       "      <td>0.805778</td>\n",
       "      <td>0.0799996</td>\n",
       "      <td>0.828358</td>\n",
       "    </tr>\n",
       "    <tr>\n",
       "      <th>5</th>\n",
       "      <td>LogisticRegressionCV</td>\n",
       "      <td>0.826645</td>\n",
       "      <td>0.0933743</td>\n",
       "      <td>0.817164</td>\n",
       "    </tr>\n",
       "    <tr>\n",
       "      <th>7</th>\n",
       "      <td>RidgeClassifierCV</td>\n",
       "      <td>0.831461</td>\n",
       "      <td>0.0697819</td>\n",
       "      <td>0.817164</td>\n",
       "    </tr>\n",
       "    <tr>\n",
       "      <th>0</th>\n",
       "      <td>AdaBoostClassifier</td>\n",
       "      <td>0.799358</td>\n",
       "      <td>0.0872108</td>\n",
       "      <td>0.813433</td>\n",
       "    </tr>\n",
       "    <tr>\n",
       "      <th>4</th>\n",
       "      <td>RandomForestClassifier</td>\n",
       "      <td>0.786517</td>\n",
       "      <td>0.0936223</td>\n",
       "      <td>0.813433</td>\n",
       "    </tr>\n",
       "    <tr>\n",
       "      <th>2</th>\n",
       "      <td>ExtraTreesClassifier</td>\n",
       "      <td>0.776886</td>\n",
       "      <td>0.090857</td>\n",
       "      <td>0.809701</td>\n",
       "    </tr>\n",
       "    <tr>\n",
       "      <th>8</th>\n",
       "      <td>SGDClassifier</td>\n",
       "      <td>0.691814</td>\n",
       "      <td>0.122011</td>\n",
       "      <td>0.809701</td>\n",
       "    </tr>\n",
       "    <tr>\n",
       "      <th>12</th>\n",
       "      <td>LinearSVC</td>\n",
       "      <td>0.76565</td>\n",
       "      <td>0.21045</td>\n",
       "      <td>0.809701</td>\n",
       "    </tr>\n",
       "    <tr>\n",
       "      <th>1</th>\n",
       "      <td>BaggingClassifier</td>\n",
       "      <td>0.788122</td>\n",
       "      <td>0.0834053</td>\n",
       "      <td>0.798507</td>\n",
       "    </tr>\n",
       "    <tr>\n",
       "      <th>6</th>\n",
       "      <td>PassiveAggressiveClassifier</td>\n",
       "      <td>0.719101</td>\n",
       "      <td>0.276792</td>\n",
       "      <td>0.787313</td>\n",
       "    </tr>\n",
       "    <tr>\n",
       "      <th>11</th>\n",
       "      <td>NuSVC</td>\n",
       "      <td>0.752809</td>\n",
       "      <td>0.111068</td>\n",
       "      <td>0.779851</td>\n",
       "    </tr>\n",
       "    <tr>\n",
       "      <th>14</th>\n",
       "      <td>ExtraTreeClassifier</td>\n",
       "      <td>0.749599</td>\n",
       "      <td>0.165835</td>\n",
       "      <td>0.772388</td>\n",
       "    </tr>\n",
       "    <tr>\n",
       "      <th>13</th>\n",
       "      <td>DecisionTreeClassifier</td>\n",
       "      <td>0.743178</td>\n",
       "      <td>0.090857</td>\n",
       "      <td>0.761194</td>\n",
       "    </tr>\n",
       "    <tr>\n",
       "      <th>10</th>\n",
       "      <td>SVC</td>\n",
       "      <td>0.730337</td>\n",
       "      <td>0.0805772</td>\n",
       "      <td>0.750000</td>\n",
       "    </tr>\n",
       "    <tr>\n",
       "      <th>9</th>\n",
       "      <td>Perceptron</td>\n",
       "      <td>0.64366</td>\n",
       "      <td>0.322165</td>\n",
       "      <td>0.731343</td>\n",
       "    </tr>\n",
       "  </tbody>\n",
       "</table>\n",
       "</div>"
      ],
      "text/plain": [
       "                       MLA Name MLA Train Accuracy Mean  \\\n",
       "3    GradientBoostingClassifier                0.817014   \n",
       "15                XGBClassifier                0.805778   \n",
       "5          LogisticRegressionCV                0.826645   \n",
       "7             RidgeClassifierCV                0.831461   \n",
       "0            AdaBoostClassifier                0.799358   \n",
       "4        RandomForestClassifier                0.786517   \n",
       "2          ExtraTreesClassifier                0.776886   \n",
       "8                 SGDClassifier                0.691814   \n",
       "12                    LinearSVC                 0.76565   \n",
       "1             BaggingClassifier                0.788122   \n",
       "6   PassiveAggressiveClassifier                0.719101   \n",
       "11                        NuSVC                0.752809   \n",
       "14          ExtraTreeClassifier                0.749599   \n",
       "13       DecisionTreeClassifier                0.743178   \n",
       "10                          SVC                0.730337   \n",
       "9                    Perceptron                 0.64366   \n",
       "\n",
       "   MLA Train Accuracy 3*STD  MLA Test Accuracy Mean  \n",
       "3                 0.0895718                0.843284  \n",
       "15                0.0799996                0.828358  \n",
       "5                 0.0933743                0.817164  \n",
       "7                 0.0697819                0.817164  \n",
       "0                 0.0872108                0.813433  \n",
       "4                 0.0936223                0.813433  \n",
       "2                  0.090857                0.809701  \n",
       "8                  0.122011                0.809701  \n",
       "12                  0.21045                0.809701  \n",
       "1                 0.0834053                0.798507  \n",
       "6                  0.276792                0.787313  \n",
       "11                 0.111068                0.779851  \n",
       "14                 0.165835                0.772388  \n",
       "13                 0.090857                0.761194  \n",
       "10                0.0805772                0.750000  \n",
       "9                  0.322165                0.731343  "
      ]
     },
     "execution_count": 50,
     "metadata": {},
     "output_type": "execute_result"
    }
   ],
   "source": [
    "MLA_compare.sort_values(by = ['MLA Test Accuracy Mean'], ascending = False, inplace = True)\n",
    "MLA_compare"
   ]
  },
  {
   "cell_type": "code",
   "execution_count": 51,
   "metadata": {},
   "outputs": [
    {
     "data": {
      "text/plain": [
       "Text(0, 0.5, 'Algorithm')"
      ]
     },
     "execution_count": 51,
     "metadata": {},
     "output_type": "execute_result"
    },
    {
     "data": {
      "image/png": "[encoded data removed]",
      "text/plain": [
       "<Figure size 432x288 with 1 Axes>"
      ]
     },
     "metadata": {
      "needs_background": "light"
     },
     "output_type": "display_data"
    }
   ],
   "source": [
    "sns.barplot(x='MLA Test Accuracy Mean', y = 'MLA Name', data = MLA_compare, color = 'm')\n",
    "\n",
    "#prettify using pyplot: https://matplotlib.org/api/pyplot_api.html\n",
    "plt.title('Machine Learning Algorithm Accuracy Score \\n')\n",
    "plt.xlabel('Accuracy Score (%)')\n",
    "plt.ylabel('Algorithm')"
   ]
  },
  {
   "cell_type": "code",
   "execution_count": null,
   "metadata": {},
   "outputs": [],
   "source": []
  },
  {
   "cell_type": "code",
   "execution_count": 42,
   "metadata": {
    "scrolled": true
   },
   "outputs": [
    {
     "name": "stdout",
     "output_type": "stream",
     "text": [
      "LogReg: 0.823435 (+/- 0.022241)\n",
      "XGBClassifier: 0.805778 (+/- 0.026667)\n",
      "KNN: 0.817014 (+/- 0.021415)\n",
      "DecisionTreeClassifier: 0.744783 (+/- 0.045627)\n",
      "RandomForestClassifier: 0.794543 (+/- 0.029857)\n",
      "GradientBoostingClassifier: 0.818620 (+/- 0.025073)\n",
      "RidgeClassifier: 0.834671 (+/- 0.022241)\n",
      "BaggingRidgeClassifier: 0.800963 (+/- 0.023808)\n",
      "ExtraTreesClassifier: 0.775281 (+/- 0.026179)\n"
     ]
    }
   ],
   "source": [
    "results, names  = [], [] \n",
    "\n",
    "for name, model  in clfs:\n",
    "    cv_results = accuracy_cv(model)\n",
    "    names.append(name)\n",
    "    results.append(cv_results)    \n",
    "    msg = \"%s: %f (+/- %f)\" % (name, cv_results.mean(),  cv_results.std())\n",
    "    print(msg)"
   ]
  },
  {
   "cell_type": "code",
   "execution_count": 9,
   "metadata": {},
   "outputs": [
    {
     "data": {
      "image/png": "[encoded data removed]",
      "text/plain": [
       "<Figure size 1080x432 with 1 Axes>"
      ]
     },
     "metadata": {
      "needs_background": "light"
     },
     "output_type": "display_data"
    }
   ],
   "source": [
    "fig = plt.figure(figsize=(15,6))\n",
    "fig.suptitle('Classifier Algorithm Comparison', fontsize=22)\n",
    "ax = fig.add_subplot(111)\n",
    "sns.boxplot(x=names, y=results)\n",
    "ax.set_xticklabels(names)\n",
    "ax.set_xlabel(\"Algorithmn\", fontsize=20)\n",
    "ax.set_ylabel(\"Accuracy of Models\", fontsize=18)\n",
    "ax.set_xticklabels(ax.get_xticklabels(),rotation=45)\n",
    "plt.show()"
   ]
  },
  {
   "cell_type": "code",
   "execution_count": 101,
   "metadata": {
    "scrolled": true
   },
   "outputs": [
    {
     "name": "stdout",
     "output_type": "stream",
     "text": [
      "0.835820895522388\n"
     ]
    }
   ],
   "source": [
    "# Лучшее значение дает GradientBoostingClassifier\n",
    "gbc = Pipeline([(\"Scaler\", StandardScaler()),\n",
    "                       (\"GradientBoosting\", GradientBoostingClassifier(n_estimators=100))])\n",
    "gbc.fit(X_train, y_train)\n",
    "predictions = gbc.predict(X_test)\n",
    "print(metrics.accuracy_score(y_test, predictions))"
   ]
  },
  {
   "cell_type": "markdown",
   "metadata": {},
   "source": [
    "last result 0.835820895522388"
   ]
  },
  {
   "cell_type": "markdown",
   "metadata": {},
   "source": [
    "## Test data submission"
   ]
  },
  {
   "cell_type": "code",
   "execution_count": 102,
   "metadata": {},
   "outputs": [
    {
     "data": {
      "text/plain": [
       "(418, 52)"
      ]
     },
     "execution_count": 102,
     "metadata": {},
     "output_type": "execute_result"
    }
   ],
   "source": [
    "test_data.shape"
   ]
  },
  {
   "cell_type": "code",
   "execution_count": 103,
   "metadata": {},
   "outputs": [],
   "source": [
    "gbc.fit(X, y)\n",
    "predicted = gbc.predict(test_data)\n",
    "test_data[\"Survived\"] = predicted\n",
    "test_data[\"Survived\"].to_csv('gbc.csv', header=True)"
   ]
  },
  {
   "cell_type": "code",
   "execution_count": 104,
   "metadata": {},
   "outputs": [
    {
     "data": {
      "text/plain": [
       "PassengerId\n",
       "892    0\n",
       "893    0\n",
       "894    0\n",
       "895    0\n",
       "896    1\n",
       "Name: Survived, dtype: int64"
      ]
     },
     "execution_count": 104,
     "metadata": {},
     "output_type": "execute_result"
    }
   ],
   "source": [
    "test_data[\"Survived\"].head()"
   ]
  },
  {
   "cell_type": "code",
   "execution_count": null,
   "metadata": {},
   "outputs": [],
   "source": []
  },
  {
   "cell_type": "code",
   "execution_count": null,
   "metadata": {},
   "outputs": [],
   "source": []
  }
 ],
 "metadata": {
  "kernelspec": {
   "display_name": "Python 3",
   "language": "python",
   "name": "python3"
  },
  "language_info": {
   "codemirror_mode": {
    "name": "ipython",
    "version": 3
   },
   "file_extension": ".py",
   "mimetype": "text/x-python",
   "name": "python",
   "nbconvert_exporter": "python",
   "pygments_lexer": "ipython3",
   "version": "3.7.3"
  }
 },
 "nbformat": 4,
 "nbformat_minor": 2
}
